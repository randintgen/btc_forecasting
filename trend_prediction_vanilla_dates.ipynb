{
 "cells": [
  {
   "attachments": {},
   "cell_type": "markdown",
   "metadata": {},
   "source": [
    "## BTC/USD Forecasting with LSTMs"
   ]
  },
  {
   "attachments": {},
   "cell_type": "markdown",
   "metadata": {},
   "source": [
    "##### Short dataset description\n",
    "Dataset was sourced from : https://www.cryptodatadownload.com/data/bitfinex/. It cointains hourly historical data of the pair BTC/USD. Data are retrieved from Bitfinex (crypto cex). The columns of the data contain :\n",
    "\n",
    "1) **open** price of the hourly candle\n",
    "2) **close** price of the hourly candle\n",
    "3) **low** price (min) of the hourly candle\n",
    "4) **high** price (max) of the hourly candle\n",
    "5) **volume** volume during the candle denominated in the respective currency (**btc/usd**)\n",
    "6) **symbol** --> btc/usd\n",
    "7) **unix timestamp**\n",
    "8) **date**"
   ]
  },
  {
   "cell_type": "code",
   "execution_count": 1,
   "metadata": {},
   "outputs": [],
   "source": [
    "import os\n",
    "import pandas as pd\n",
    "import numpy as np\n",
    "import math\n",
    "import datetime as dt\n",
    "import matplotlib.pyplot as plt\n",
    "\n",
    "import tensorflow as tf\n",
    "from tensorflow.keras.models import Sequential\n",
    "from tensorflow.keras import layers\n",
    "from tensorflow.keras.layers import Dense, Dropout\n",
    "from tensorflow.keras.layers import LSTM\n",
    "\n",
    "from sklearn.metrics import mean_squared_error, mean_absolute_error, explained_variance_score, r2_score \n",
    "from sklearn.metrics import mean_poisson_deviance, mean_gamma_deviance, accuracy_score\n",
    "from sklearn.preprocessing import RobustScaler\n",
    "\n",
    "from sklearn.ensemble import HistGradientBoostingRegressor\n",
    "from sklearn.ensemble import HistGradientBoostingClassifier\n",
    "from sklearn.metrics import f1_score\n",
    "from tensorflow.keras.callbacks import EarlyStopping\n",
    "\n",
    "from sklearn.preprocessing import LabelEncoder"
   ]
  },
  {
   "attachments": {},
   "cell_type": "markdown",
   "metadata": {},
   "source": [
    "#### Read the data"
   ]
  },
  {
   "cell_type": "code",
   "execution_count": 101,
   "metadata": {},
   "outputs": [],
   "source": [
    "df = pd.read_csv('Bitfinex_BTCUSD_1h.csv')\n",
    "df['date'] = pd.to_datetime(df['date'])\n",
    "#df['year'] = df['date'].dt.year\n",
    "#df['month'] = df['date'].dt.month\n",
    "#df['day'] = df['date'].dt.day\n",
    "#df['hour'] = df['date'].dt.hour\n",
    "df = df.drop([\"unix\", \"symbol\"], axis = 1)\n",
    "df = df.sort_values(by='date')"
   ]
  },
  {
   "cell_type": "code",
   "execution_count": 102,
   "metadata": {},
   "outputs": [
    {
     "data": {
      "text/html": [
       "<div>\n",
       "<style scoped>\n",
       "    .dataframe tbody tr th:only-of-type {\n",
       "        vertical-align: middle;\n",
       "    }\n",
       "\n",
       "    .dataframe tbody tr th {\n",
       "        vertical-align: top;\n",
       "    }\n",
       "\n",
       "    .dataframe thead th {\n",
       "        text-align: right;\n",
       "    }\n",
       "</style>\n",
       "<table border=\"1\" class=\"dataframe\">\n",
       "  <thead>\n",
       "    <tr style=\"text-align: right;\">\n",
       "      <th></th>\n",
       "      <th>date</th>\n",
       "      <th>open</th>\n",
       "      <th>high</th>\n",
       "      <th>low</th>\n",
       "      <th>close</th>\n",
       "      <th>Volume USD</th>\n",
       "      <th>Volume BTC</th>\n",
       "      <th>year</th>\n",
       "    </tr>\n",
       "  </thead>\n",
       "  <tbody>\n",
       "    <tr>\n",
       "      <th>44624</th>\n",
       "      <td>2018-05-15 06:00:00</td>\n",
       "      <td>8723.8</td>\n",
       "      <td>8793.0</td>\n",
       "      <td>8714.9</td>\n",
       "      <td>8739.0</td>\n",
       "      <td>8988053.53</td>\n",
       "      <td>1026.35</td>\n",
       "      <td>2018</td>\n",
       "    </tr>\n",
       "    <tr>\n",
       "      <th>44623</th>\n",
       "      <td>2018-05-15 07:00:00</td>\n",
       "      <td>8739.0</td>\n",
       "      <td>8754.8</td>\n",
       "      <td>8719.3</td>\n",
       "      <td>8743.0</td>\n",
       "      <td>2288904.12</td>\n",
       "      <td>261.97</td>\n",
       "      <td>2018</td>\n",
       "    </tr>\n",
       "    <tr>\n",
       "      <th>44622</th>\n",
       "      <td>2018-05-15 08:00:00</td>\n",
       "      <td>8743.0</td>\n",
       "      <td>8743.1</td>\n",
       "      <td>8653.2</td>\n",
       "      <td>8723.7</td>\n",
       "      <td>8891773.14</td>\n",
       "      <td>1023.31</td>\n",
       "      <td>2018</td>\n",
       "    </tr>\n",
       "    <tr>\n",
       "      <th>44621</th>\n",
       "      <td>2018-05-15 09:00:00</td>\n",
       "      <td>8723.7</td>\n",
       "      <td>8737.8</td>\n",
       "      <td>8701.2</td>\n",
       "      <td>8708.1</td>\n",
       "      <td>2054868.28</td>\n",
       "      <td>235.55</td>\n",
       "      <td>2018</td>\n",
       "    </tr>\n",
       "    <tr>\n",
       "      <th>44620</th>\n",
       "      <td>2018-05-15 10:00:00</td>\n",
       "      <td>8708.1</td>\n",
       "      <td>8855.7</td>\n",
       "      <td>8695.8</td>\n",
       "      <td>8784.4</td>\n",
       "      <td>17309722.58</td>\n",
       "      <td>1969.08</td>\n",
       "      <td>2018</td>\n",
       "    </tr>\n",
       "  </tbody>\n",
       "</table>\n",
       "</div>"
      ],
      "text/plain": [
       "                     date    open    high     low   close   Volume USD  \\\n",
       "44624 2018-05-15 06:00:00  8723.8  8793.0  8714.9  8739.0   8988053.53   \n",
       "44623 2018-05-15 07:00:00  8739.0  8754.8  8719.3  8743.0   2288904.12   \n",
       "44622 2018-05-15 08:00:00  8743.0  8743.1  8653.2  8723.7   8891773.14   \n",
       "44621 2018-05-15 09:00:00  8723.7  8737.8  8701.2  8708.1   2054868.28   \n",
       "44620 2018-05-15 10:00:00  8708.1  8855.7  8695.8  8784.4  17309722.58   \n",
       "\n",
       "       Volume BTC  year  \n",
       "44624     1026.35  2018  \n",
       "44623      261.97  2018  \n",
       "44622     1023.31  2018  \n",
       "44621      235.55  2018  \n",
       "44620     1969.08  2018  "
      ]
     },
     "execution_count": 102,
     "metadata": {},
     "output_type": "execute_result"
    }
   ],
   "source": [
    "df.head()"
   ]
  },
  {
   "attachments": {},
   "cell_type": "markdown",
   "metadata": {},
   "source": [
    "#### Visualization "
   ]
  },
  {
   "cell_type": "code",
   "execution_count": 103,
   "metadata": {},
   "outputs": [
    {
     "data": {
      "image/png": "[encoded data removed]",
      "text/plain": [
       "<Figure size 1200x400 with 1 Axes>"
      ]
     },
     "metadata": {},
     "output_type": "display_data"
    }
   ],
   "source": [
    "plt.figure(figsize=(12, 4))\n",
    "plt.plot(df['date'], df['close'])\n",
    "\n",
    "# Adding labels and title\n",
    "plt.xlabel('date')\n",
    "plt.ylabel('USD')\n",
    "plt.title('BTC/USD price in time')\n",
    "\n",
    "# Displaying the plot\n",
    "plt.show()"
   ]
  },
  {
   "attachments": {},
   "cell_type": "markdown",
   "metadata": {},
   "source": [
    "### Create Training and Test Set"
   ]
  },
  {
   "attachments": {},
   "cell_type": "markdown",
   "metadata": {},
   "source": [
    "#### Visualize test set"
   ]
  },
  {
   "cell_type": "code",
   "execution_count": 104,
   "metadata": {},
   "outputs": [],
   "source": [
    "df_test = df.loc[(df['date'] >= '2021-11-01')].copy(deep=True)\n",
    "df_train = df.loc[(df['date'] <= '2021-11-01' )].copy(deep=True)\n",
    "df_train = df_train.reset_index()\n",
    "df_test = df_test.reset_index()\n",
    "df = df.reset_index()\n"
   ]
  },
  {
   "cell_type": "code",
   "execution_count": 105,
   "metadata": {},
   "outputs": [
    {
     "data": {
      "image/png": "[encoded data removed]",
      "text/plain": [
       "<Figure size 1200x400 with 1 Axes>"
      ]
     },
     "metadata": {},
     "output_type": "display_data"
    }
   ],
   "source": [
    "plt.figure(figsize=(12, 4))\n",
    "plt.plot(df_train['date'], df_train['close'], color = 'blue', label = 'train')\n",
    "plt.plot(df_test['date'], df_test['close'], color = 'red', label = 'test')\n",
    "\n",
    "# Adding labels and title\n",
    "plt.xlabel('date')\n",
    "plt.ylabel('USD')\n",
    "plt.title('BTC/USD price in time')\n",
    "plt.legend()\n",
    "\n",
    "# Displaying the plot\n",
    "plt.show()"
   ]
  },
  {
   "attachments": {},
   "cell_type": "markdown",
   "metadata": {},
   "source": [
    "#### Create the sets"
   ]
  },
  {
   "cell_type": "code",
   "execution_count": 106,
   "metadata": {},
   "outputs": [
    {
     "name": "stdout",
     "output_type": "stream",
     "text": [
      "Train set consists of: 30374 samples\n",
      "Test set consists of: 14252 samples\n",
      "Test set is  31.93653923721597 of the dataset.\n"
     ]
    }
   ],
   "source": [
    "print(\"Train set consists of:\", df_train.shape[0], \"samples\")\n",
    "print(\"Test set consists of:\", df_test.shape[0], \"samples\")\n",
    "print(\"Test set is \",(df_test.shape[0]/(df_train.shape[0]+df_test.shape[0]))*100,\"of the dataset.\")"
   ]
  },
  {
   "attachments": {},
   "cell_type": "markdown",
   "metadata": {},
   "source": [
    "## Task 1 -- Trend Prediction\n",
    "For this task we consider the trend to be an uptrend (y = 1) if close[t] < open[t+1] and downtrend (y = 0) if close[t] >= open[t+1]."
   ]
  },
  {
   "cell_type": "code",
   "execution_count": 107,
   "metadata": {},
   "outputs": [],
   "source": [
    "def generate_trend_prediction_set(dataset):\n",
    "\n",
    "    data = dataset.copy(deep=True)\n",
    "    l = data.shape[0]\n",
    "    data['trend'] = [0]*l\n",
    "\n",
    "    counter = 0\n",
    "    counter_eq = 0 \n",
    "    for index,row in data.iterrows():\n",
    "        if index+1 >= l:\n",
    "            continue\n",
    "        if data.loc[index+1]['close'] > row['close']:\n",
    "            if counter == 0:\n",
    "                print(\"First uptrend :\",row['date'])\n",
    "            counter += 1\n",
    "            data.at[index,'trend'] = 1\n",
    "        elif data.loc[index+1]['close'] == row['close']:\n",
    "            counter_eq +=1\n",
    "\n",
    "    print(\"Uptrends counted:\",counter)\n",
    "    print(\"% of Uptrends:\",(counter/l)*100)\n",
    "\n",
    "    print(\"No trend counted:\",counter_eq)\n",
    "    print(\"% of no trends:\",(counter_eq/l)*100)\n",
    "\n",
    "    y = data['trend'].values\n",
    "    data = data.drop(['trend','index','date'], axis = 1)\n",
    "\n",
    "    return data.values,y"
   ]
  },
  {
   "cell_type": "code",
   "execution_count": 108,
   "metadata": {},
   "outputs": [
    {
     "name": "stdout",
     "output_type": "stream",
     "text": [
      "First uptrend : 2018-05-15 06:00:00\n",
      "Uptrends counted: 15405\n",
      "% of Uptrends: 50.71771910186344\n",
      "No trend counted: 111\n",
      "% of no trends: 0.3654441298478962\n"
     ]
    }
   ],
   "source": [
    "x_train, y_train = generate_trend_prediction_set(df_train)"
   ]
  },
  {
   "cell_type": "code",
   "execution_count": 109,
   "metadata": {},
   "outputs": [
    {
     "name": "stdout",
     "output_type": "stream",
     "text": [
      "First uptrend : 2021-11-01 03:00:00\n",
      "Uptrends counted: 7097\n",
      "% of Uptrends: 49.7965197866966\n",
      "No trend counted: 66\n",
      "% of no trends: 0.46309289924221164\n"
     ]
    }
   ],
   "source": [
    "x_test, y_test = generate_trend_prediction_set(df_test)"
   ]
  },
  {
   "attachments": {},
   "cell_type": "markdown",
   "metadata": {},
   "source": [
    "### Normalization"
   ]
  },
  {
   "cell_type": "code",
   "execution_count": 110,
   "metadata": {},
   "outputs": [],
   "source": [
    "scaler = RobustScaler()\n",
    "x_train = scaler.fit_transform(x_train)\n",
    "x_test = scaler.transform(x_test)"
   ]
  },
  {
   "attachments": {},
   "cell_type": "markdown",
   "metadata": {},
   "source": [
    "#### Hist Gradient Boosting Classifier"
   ]
  },
  {
   "cell_type": "code",
   "execution_count": 111,
   "metadata": {},
   "outputs": [],
   "source": [
    "model = HistGradientBoostingClassifier(learning_rate=0.05, max_iter=2000, max_depth=15,  min_samples_leaf=9,random_state=32)"
   ]
  },
  {
   "cell_type": "code",
   "execution_count": 112,
   "metadata": {},
   "outputs": [
    {
     "data": {
      "text/html": [
       "<style>#sk-container-id-8 {color: black;background-color: white;}#sk-container-id-8 pre{padding: 0;}#sk-container-id-8 div.sk-toggleable {background-color: white;}#sk-container-id-8 label.sk-toggleable__label {cursor: pointer;display: block;width: 100%;margin-bottom: 0;padding: 0.3em;box-sizing: border-box;text-align: center;}#sk-container-id-8 label.sk-toggleable__label-arrow:before {content: \"▸\";float: left;margin-right: 0.25em;color: #696969;}#sk-container-id-8 label.sk-toggleable__label-arrow:hover:before {color: black;}#sk-container-id-8 div.sk-estimator:hover label.sk-toggleable__label-arrow:before {color: black;}#sk-container-id-8 div.sk-toggleable__content {max-height: 0;max-width: 0;overflow: hidden;text-align: left;background-color: #f0f8ff;}#sk-container-id-8 div.sk-toggleable__content pre {margin: 0.2em;color: black;border-radius: 0.25em;background-color: #f0f8ff;}#sk-container-id-8 input.sk-toggleable__control:checked~div.sk-toggleable__content {max-height: 200px;max-width: 100%;overflow: auto;}#sk-container-id-8 input.sk-toggleable__control:checked~label.sk-toggleable__label-arrow:before {content: \"▾\";}#sk-container-id-8 div.sk-estimator input.sk-toggleable__control:checked~label.sk-toggleable__label {background-color: #d4ebff;}#sk-container-id-8 div.sk-label input.sk-toggleable__control:checked~label.sk-toggleable__label {background-color: #d4ebff;}#sk-container-id-8 input.sk-hidden--visually {border: 0;clip: rect(1px 1px 1px 1px);clip: rect(1px, 1px, 1px, 1px);height: 1px;margin: -1px;overflow: hidden;padding: 0;position: absolute;width: 1px;}#sk-container-id-8 div.sk-estimator {font-family: monospace;background-color: #f0f8ff;border: 1px dotted black;border-radius: 0.25em;box-sizing: border-box;margin-bottom: 0.5em;}#sk-container-id-8 div.sk-estimator:hover {background-color: #d4ebff;}#sk-container-id-8 div.sk-parallel-item::after {content: \"\";width: 100%;border-bottom: 1px solid gray;flex-grow: 1;}#sk-container-id-8 div.sk-label:hover label.sk-toggleable__label {background-color: #d4ebff;}#sk-container-id-8 div.sk-serial::before {content: \"\";position: absolute;border-left: 1px solid gray;box-sizing: border-box;top: 0;bottom: 0;left: 50%;z-index: 0;}#sk-container-id-8 div.sk-serial {display: flex;flex-direction: column;align-items: center;background-color: white;padding-right: 0.2em;padding-left: 0.2em;position: relative;}#sk-container-id-8 div.sk-item {position: relative;z-index: 1;}#sk-container-id-8 div.sk-parallel {display: flex;align-items: stretch;justify-content: center;background-color: white;position: relative;}#sk-container-id-8 div.sk-item::before, #sk-container-id-8 div.sk-parallel-item::before {content: \"\";position: absolute;border-left: 1px solid gray;box-sizing: border-box;top: 0;bottom: 0;left: 50%;z-index: -1;}#sk-container-id-8 div.sk-parallel-item {display: flex;flex-direction: column;z-index: 1;position: relative;background-color: white;}#sk-container-id-8 div.sk-parallel-item:first-child::after {align-self: flex-end;width: 50%;}#sk-container-id-8 div.sk-parallel-item:last-child::after {align-self: flex-start;width: 50%;}#sk-container-id-8 div.sk-parallel-item:only-child::after {width: 0;}#sk-container-id-8 div.sk-dashed-wrapped {border: 1px dashed gray;margin: 0 0.4em 0.5em 0.4em;box-sizing: border-box;padding-bottom: 0.4em;background-color: white;}#sk-container-id-8 div.sk-label label {font-family: monospace;font-weight: bold;display: inline-block;line-height: 1.2em;}#sk-container-id-8 div.sk-label-container {text-align: center;}#sk-container-id-8 div.sk-container {/* jupyter's `normalize.less` sets `[hidden] { display: none; }` but bootstrap.min.css set `[hidden] { display: none !important; }` so we also need the `!important` here to be able to override the default hidden behavior on the sphinx rendered scikit-learn.org. See: https://github.com/scikit-learn/scikit-learn/issues/21755 */display: inline-block !important;position: relative;}#sk-container-id-8 div.sk-text-repr-fallback {display: none;}</style><div id=\"sk-container-id-8\" class=\"sk-top-container\"><div class=\"sk-text-repr-fallback\"><pre>HistGradientBoostingClassifier(learning_rate=0.05, max_depth=15, max_iter=2000,\n",
       "                               min_samples_leaf=9, random_state=32)</pre><b>In a Jupyter environment, please rerun this cell to show the HTML representation or trust the notebook. <br />On GitHub, the HTML representation is unable to render, please try loading this page with nbviewer.org.</b></div><div class=\"sk-container\" hidden><div class=\"sk-item\"><div class=\"sk-estimator sk-toggleable\"><input class=\"sk-toggleable__control sk-hidden--visually\" id=\"sk-estimator-id-8\" type=\"checkbox\" checked><label for=\"sk-estimator-id-8\" class=\"sk-toggleable__label sk-toggleable__label-arrow\">HistGradientBoostingClassifier</label><div class=\"sk-toggleable__content\"><pre>HistGradientBoostingClassifier(learning_rate=0.05, max_depth=15, max_iter=2000,\n",
       "                               min_samples_leaf=9, random_state=32)</pre></div></div></div></div></div>"
      ],
      "text/plain": [
       "HistGradientBoostingClassifier(learning_rate=0.05, max_depth=15, max_iter=2000,\n",
       "                               min_samples_leaf=9, random_state=32)"
      ]
     },
     "execution_count": 112,
     "metadata": {},
     "output_type": "execute_result"
    }
   ],
   "source": [
    "model.fit(x_train,y_train)"
   ]
  },
  {
   "cell_type": "code",
   "execution_count": 113,
   "metadata": {},
   "outputs": [],
   "source": [
    "y_pred = model.predict(x_test)"
   ]
  },
  {
   "cell_type": "code",
   "execution_count": 114,
   "metadata": {},
   "outputs": [
    {
     "data": {
      "text/plain": [
       "0.4689562570742146"
      ]
     },
     "execution_count": 114,
     "metadata": {},
     "output_type": "execute_result"
    }
   ],
   "source": [
    "f1_score(y_test,y_pred, average = 'macro')"
   ]
  },
  {
   "attachments": {},
   "cell_type": "markdown",
   "metadata": {},
   "source": [
    "#### DNN"
   ]
  },
  {
   "cell_type": "code",
   "execution_count": 100,
   "metadata": {},
   "outputs": [],
   "source": [
    "encoder = LabelEncoder()\n",
    "y_train_dnn = encoder.fit_transform(y_train)\n",
    "y_test_dnn = encoder.transform(y_test)"
   ]
  },
  {
   "cell_type": "code",
   "execution_count": 23,
   "metadata": {},
   "outputs": [],
   "source": [
    "model = Sequential()\n",
    "model.add(layers.Dense(128, activation='relu', input_shape = (x_train.shape[1],)))\n",
    "#model.add(layers.Dropout(0.25))\n",
    "model.add(layers.Dense(128, activation='relu'))\n",
    "#model.add(layers.Dropout(0.25))\n",
    "model.add(layers.Dense(2, activation='softmax'))"
   ]
  },
  {
   "cell_type": "code",
   "execution_count": 24,
   "metadata": {},
   "outputs": [],
   "source": [
    "early_stopping = EarlyStopping(monitor='val_loss', patience=25)\n",
    "model.compile(optimizer='Nadam',loss='sparse_categorical_crossentropy',metrics=['accuracy'])"
   ]
  },
  {
   "cell_type": "code",
   "execution_count": 25,
   "metadata": {},
   "outputs": [
    {
     "name": "stdout",
     "output_type": "stream",
     "text": [
      "Epoch 1/250\n"
     ]
    },
    {
     "name": "stdout",
     "output_type": "stream",
     "text": [
      "119/119 [==============================] - 1s 1ms/step - loss: 0.6965 - accuracy: 0.4998\n",
      "Epoch 2/250\n",
      "119/119 [==============================] - 0s 1ms/step - loss: 0.6944 - accuracy: 0.5124\n",
      "Epoch 3/250\n",
      "119/119 [==============================] - 0s 1ms/step - loss: 0.6936 - accuracy: 0.5148\n",
      "Epoch 4/250\n",
      "119/119 [==============================] - 0s 2ms/step - loss: 0.6932 - accuracy: 0.5156\n",
      "Epoch 5/250\n",
      "119/119 [==============================] - 0s 2ms/step - loss: 0.6930 - accuracy: 0.5163\n",
      "Epoch 6/250\n",
      "119/119 [==============================] - 0s 1ms/step - loss: 0.6928 - accuracy: 0.5197\n",
      "Epoch 7/250\n",
      "119/119 [==============================] - 0s 1ms/step - loss: 0.6924 - accuracy: 0.5203\n",
      "Epoch 8/250\n",
      "119/119 [==============================] - 0s 1ms/step - loss: 0.6922 - accuracy: 0.5224\n",
      "Epoch 9/250\n",
      "119/119 [==============================] - 0s 932us/step - loss: 0.6919 - accuracy: 0.5205\n",
      "Epoch 10/250\n",
      "119/119 [==============================] - 0s 1ms/step - loss: 0.6919 - accuracy: 0.5198\n",
      "Epoch 11/250\n",
      "119/119 [==============================] - 0s 1ms/step - loss: 0.6917 - accuracy: 0.5229\n",
      "Epoch 12/250\n",
      "119/119 [==============================] - 0s 1ms/step - loss: 0.6918 - accuracy: 0.5200\n",
      "Epoch 13/250\n",
      "119/119 [==============================] - 0s 1ms/step - loss: 0.6915 - accuracy: 0.5220\n",
      "Epoch 14/250\n",
      "119/119 [==============================] - 0s 891us/step - loss: 0.6915 - accuracy: 0.5251\n",
      "Epoch 15/250\n",
      "119/119 [==============================] - 0s 859us/step - loss: 0.6915 - accuracy: 0.5208\n",
      "Epoch 16/250\n",
      "119/119 [==============================] - 0s 795us/step - loss: 0.6912 - accuracy: 0.5275\n",
      "Epoch 17/250\n",
      "119/119 [==============================] - 0s 778us/step - loss: 0.6912 - accuracy: 0.5248\n",
      "Epoch 18/250\n",
      "119/119 [==============================] - 0s 772us/step - loss: 0.6911 - accuracy: 0.5255\n",
      "Epoch 19/250\n",
      "119/119 [==============================] - 0s 773us/step - loss: 0.6909 - accuracy: 0.5266\n",
      "Epoch 20/250\n",
      "119/119 [==============================] - 0s 766us/step - loss: 0.6909 - accuracy: 0.5255\n",
      "Epoch 21/250\n",
      "119/119 [==============================] - 0s 770us/step - loss: 0.6906 - accuracy: 0.5275\n",
      "Epoch 22/250\n",
      "119/119 [==============================] - 0s 774us/step - loss: 0.6906 - accuracy: 0.5289\n",
      "Epoch 23/250\n",
      "119/119 [==============================] - 0s 959us/step - loss: 0.6903 - accuracy: 0.5311\n",
      "Epoch 24/250\n",
      "119/119 [==============================] - 0s 813us/step - loss: 0.6902 - accuracy: 0.5273\n",
      "Epoch 25/250\n",
      "119/119 [==============================] - 0s 1ms/step - loss: 0.6904 - accuracy: 0.5303\n",
      "Epoch 26/250\n",
      "119/119 [==============================] - 0s 1ms/step - loss: 0.6900 - accuracy: 0.5284\n",
      "Epoch 27/250\n",
      "119/119 [==============================] - 0s 1ms/step - loss: 0.6897 - accuracy: 0.5291\n",
      "Epoch 28/250\n",
      "119/119 [==============================] - 0s 1ms/step - loss: 0.6899 - accuracy: 0.5335\n",
      "Epoch 29/250\n",
      "119/119 [==============================] - 0s 903us/step - loss: 0.6897 - accuracy: 0.5295\n",
      "Epoch 30/250\n",
      "119/119 [==============================] - 0s 1ms/step - loss: 0.6897 - accuracy: 0.5321\n",
      "Epoch 31/250\n",
      "119/119 [==============================] - 0s 888us/step - loss: 0.6896 - accuracy: 0.5319\n",
      "Epoch 32/250\n",
      "119/119 [==============================] - 0s 862us/step - loss: 0.6893 - accuracy: 0.5330\n",
      "Epoch 33/250\n",
      "119/119 [==============================] - 0s 772us/step - loss: 0.6892 - accuracy: 0.5326\n",
      "Epoch 34/250\n",
      "119/119 [==============================] - 0s 785us/step - loss: 0.6888 - accuracy: 0.5378\n",
      "Epoch 35/250\n",
      "119/119 [==============================] - 0s 775us/step - loss: 0.6891 - accuracy: 0.5351\n",
      "Epoch 36/250\n",
      "119/119 [==============================] - 0s 789us/step - loss: 0.6888 - accuracy: 0.5352\n",
      "Epoch 37/250\n",
      "119/119 [==============================] - 0s 846us/step - loss: 0.6885 - accuracy: 0.5356\n",
      "Epoch 38/250\n",
      "119/119 [==============================] - 0s 889us/step - loss: 0.6883 - accuracy: 0.5372\n",
      "Epoch 39/250\n",
      "119/119 [==============================] - 0s 839us/step - loss: 0.6883 - accuracy: 0.5366\n",
      "Epoch 40/250\n",
      "119/119 [==============================] - 0s 792us/step - loss: 0.6883 - accuracy: 0.5388\n",
      "Epoch 41/250\n",
      "119/119 [==============================] - 0s 749us/step - loss: 0.6882 - accuracy: 0.5376\n",
      "Epoch 42/250\n",
      "119/119 [==============================] - 0s 768us/step - loss: 0.6880 - accuracy: 0.5417\n",
      "Epoch 43/250\n",
      "119/119 [==============================] - 0s 772us/step - loss: 0.6880 - accuracy: 0.5362\n",
      "Epoch 44/250\n",
      "119/119 [==============================] - 0s 782us/step - loss: 0.6877 - accuracy: 0.5405\n",
      "Epoch 45/250\n",
      "119/119 [==============================] - 0s 792us/step - loss: 0.6875 - accuracy: 0.5409\n",
      "Epoch 46/250\n",
      "119/119 [==============================] - 0s 770us/step - loss: 0.6872 - accuracy: 0.5412\n",
      "Epoch 47/250\n",
      "119/119 [==============================] - 0s 791us/step - loss: 0.6872 - accuracy: 0.5397\n",
      "Epoch 48/250\n",
      "119/119 [==============================] - 0s 760us/step - loss: 0.6868 - accuracy: 0.5434\n",
      "Epoch 49/250\n",
      "119/119 [==============================] - 0s 756us/step - loss: 0.6867 - accuracy: 0.5429\n",
      "Epoch 50/250\n",
      "119/119 [==============================] - 0s 755us/step - loss: 0.6866 - accuracy: 0.5427\n",
      "Epoch 51/250\n",
      "119/119 [==============================] - 0s 762us/step - loss: 0.6865 - accuracy: 0.5441\n",
      "Epoch 52/250\n",
      "119/119 [==============================] - 0s 771us/step - loss: 0.6864 - accuracy: 0.5442\n",
      "Epoch 53/250\n",
      "119/119 [==============================] - 0s 1ms/step - loss: 0.6861 - accuracy: 0.5461\n",
      "Epoch 54/250\n",
      "119/119 [==============================] - 0s 769us/step - loss: 0.6860 - accuracy: 0.5446\n",
      "Epoch 55/250\n",
      "119/119 [==============================] - 0s 786us/step - loss: 0.6856 - accuracy: 0.5460\n",
      "Epoch 56/250\n",
      "119/119 [==============================] - 0s 786us/step - loss: 0.6852 - accuracy: 0.5486\n",
      "Epoch 57/250\n",
      "119/119 [==============================] - 0s 779us/step - loss: 0.6854 - accuracy: 0.5495\n",
      "Epoch 58/250\n",
      "119/119 [==============================] - 0s 924us/step - loss: 0.6851 - accuracy: 0.5510\n",
      "Epoch 59/250\n",
      "119/119 [==============================] - 0s 778us/step - loss: 0.6850 - accuracy: 0.5478\n",
      "Epoch 60/250\n",
      "119/119 [==============================] - 0s 772us/step - loss: 0.6848 - accuracy: 0.5505\n",
      "Epoch 61/250\n",
      "119/119 [==============================] - 0s 764us/step - loss: 0.6845 - accuracy: 0.5511\n",
      "Epoch 62/250\n",
      "119/119 [==============================] - 0s 771us/step - loss: 0.6840 - accuracy: 0.5489\n",
      "Epoch 63/250\n",
      "119/119 [==============================] - 0s 755us/step - loss: 0.6843 - accuracy: 0.5487\n",
      "Epoch 64/250\n",
      "119/119 [==============================] - 0s 772us/step - loss: 0.6839 - accuracy: 0.5548\n",
      "Epoch 65/250\n",
      "119/119 [==============================] - 0s 790us/step - loss: 0.6839 - accuracy: 0.5539\n",
      "Epoch 66/250\n",
      "119/119 [==============================] - 0s 773us/step - loss: 0.6835 - accuracy: 0.5535\n",
      "Epoch 67/250\n",
      "119/119 [==============================] - 0s 779us/step - loss: 0.6834 - accuracy: 0.5546\n",
      "Epoch 68/250\n",
      "119/119 [==============================] - 0s 790us/step - loss: 0.6831 - accuracy: 0.5576\n",
      "Epoch 69/250\n",
      "119/119 [==============================] - 0s 747us/step - loss: 0.6825 - accuracy: 0.5551\n",
      "Epoch 70/250\n",
      "119/119 [==============================] - 0s 774us/step - loss: 0.6824 - accuracy: 0.5565\n",
      "Epoch 71/250\n",
      "119/119 [==============================] - 0s 784us/step - loss: 0.6825 - accuracy: 0.5548\n",
      "Epoch 72/250\n",
      "119/119 [==============================] - 0s 778us/step - loss: 0.6821 - accuracy: 0.5573\n",
      "Epoch 73/250\n",
      "119/119 [==============================] - 0s 733us/step - loss: 0.6816 - accuracy: 0.5580\n",
      "Epoch 74/250\n",
      "119/119 [==============================] - 0s 771us/step - loss: 0.6819 - accuracy: 0.5592\n",
      "Epoch 75/250\n",
      "119/119 [==============================] - 0s 775us/step - loss: 0.6814 - accuracy: 0.5593\n",
      "Epoch 76/250\n",
      "119/119 [==============================] - 0s 779us/step - loss: 0.6811 - accuracy: 0.5597\n",
      "Epoch 77/250\n",
      "119/119 [==============================] - 0s 820us/step - loss: 0.6811 - accuracy: 0.5611\n",
      "Epoch 78/250\n",
      "119/119 [==============================] - 0s 798us/step - loss: 0.6805 - accuracy: 0.5633\n",
      "Epoch 79/250\n",
      "119/119 [==============================] - 0s 767us/step - loss: 0.6806 - accuracy: 0.5613\n",
      "Epoch 80/250\n",
      "119/119 [==============================] - 0s 772us/step - loss: 0.6804 - accuracy: 0.5622\n",
      "Epoch 81/250\n",
      "119/119 [==============================] - 0s 820us/step - loss: 0.6801 - accuracy: 0.5613\n",
      "Epoch 82/250\n",
      "119/119 [==============================] - 0s 796us/step - loss: 0.6798 - accuracy: 0.5631\n",
      "Epoch 83/250\n",
      "119/119 [==============================] - 0s 763us/step - loss: 0.6791 - accuracy: 0.5665\n",
      "Epoch 84/250\n",
      "119/119 [==============================] - 0s 1ms/step - loss: 0.6791 - accuracy: 0.5655\n",
      "Epoch 85/250\n",
      "119/119 [==============================] - 0s 760us/step - loss: 0.6788 - accuracy: 0.5654\n",
      "Epoch 86/250\n",
      "119/119 [==============================] - 0s 776us/step - loss: 0.6786 - accuracy: 0.5636\n",
      "Epoch 87/250\n",
      "119/119 [==============================] - 0s 780us/step - loss: 0.6783 - accuracy: 0.5658\n",
      "Epoch 88/250\n",
      "119/119 [==============================] - 0s 767us/step - loss: 0.6777 - accuracy: 0.5695\n",
      "Epoch 89/250\n",
      "119/119 [==============================] - 0s 772us/step - loss: 0.6778 - accuracy: 0.5682\n",
      "Epoch 90/250\n",
      "119/119 [==============================] - 0s 767us/step - loss: 0.6778 - accuracy: 0.5703\n",
      "Epoch 91/250\n",
      "119/119 [==============================] - 0s 760us/step - loss: 0.6776 - accuracy: 0.5686\n",
      "Epoch 92/250\n",
      "119/119 [==============================] - 0s 761us/step - loss: 0.6770 - accuracy: 0.5671\n",
      "Epoch 93/250\n",
      "119/119 [==============================] - 0s 764us/step - loss: 0.6768 - accuracy: 0.5689\n",
      "Epoch 94/250\n",
      "119/119 [==============================] - 0s 761us/step - loss: 0.6763 - accuracy: 0.5713\n",
      "Epoch 95/250\n",
      "119/119 [==============================] - 0s 783us/step - loss: 0.6766 - accuracy: 0.5710\n",
      "Epoch 96/250\n",
      "119/119 [==============================] - 0s 788us/step - loss: 0.6757 - accuracy: 0.5724\n",
      "Epoch 97/250\n",
      "119/119 [==============================] - 0s 788us/step - loss: 0.6763 - accuracy: 0.5713\n",
      "Epoch 98/250\n",
      "119/119 [==============================] - 0s 775us/step - loss: 0.6755 - accuracy: 0.5720\n",
      "Epoch 99/250\n",
      "119/119 [==============================] - 0s 785us/step - loss: 0.6752 - accuracy: 0.5750\n",
      "Epoch 100/250\n",
      "119/119 [==============================] - 0s 772us/step - loss: 0.6749 - accuracy: 0.5739\n",
      "Epoch 101/250\n",
      "119/119 [==============================] - 0s 938us/step - loss: 0.6748 - accuracy: 0.5726\n",
      "Epoch 102/250\n",
      "119/119 [==============================] - 0s 744us/step - loss: 0.6745 - accuracy: 0.5762\n",
      "Epoch 103/250\n",
      "119/119 [==============================] - 0s 780us/step - loss: 0.6741 - accuracy: 0.5761\n",
      "Epoch 104/250\n",
      "119/119 [==============================] - 0s 767us/step - loss: 0.6739 - accuracy: 0.5768\n",
      "Epoch 105/250\n",
      "119/119 [==============================] - 0s 776us/step - loss: 0.6736 - accuracy: 0.5764\n",
      "Epoch 106/250\n",
      "119/119 [==============================] - 0s 824us/step - loss: 0.6734 - accuracy: 0.5736\n",
      "Epoch 107/250\n",
      "119/119 [==============================] - 0s 799us/step - loss: 0.6731 - accuracy: 0.5778\n",
      "Epoch 108/250\n",
      "119/119 [==============================] - 0s 773us/step - loss: 0.6730 - accuracy: 0.5763\n",
      "Epoch 109/250\n",
      "119/119 [==============================] - 0s 782us/step - loss: 0.6725 - accuracy: 0.5788\n",
      "Epoch 110/250\n",
      "119/119 [==============================] - 0s 753us/step - loss: 0.6724 - accuracy: 0.5798\n",
      "Epoch 111/250\n",
      "119/119 [==============================] - 0s 776us/step - loss: 0.6720 - accuracy: 0.5801\n",
      "Epoch 112/250\n",
      "119/119 [==============================] - 0s 949us/step - loss: 0.6717 - accuracy: 0.5799\n",
      "Epoch 113/250\n",
      "119/119 [==============================] - 0s 940us/step - loss: 0.6717 - accuracy: 0.5803\n",
      "Epoch 114/250\n",
      "119/119 [==============================] - 0s 772us/step - loss: 0.6711 - accuracy: 0.5818\n",
      "Epoch 115/250\n",
      "119/119 [==============================] - 0s 765us/step - loss: 0.6710 - accuracy: 0.5804\n",
      "Epoch 116/250\n",
      "119/119 [==============================] - 0s 770us/step - loss: 0.6706 - accuracy: 0.5789\n",
      "Epoch 117/250\n",
      "119/119 [==============================] - 0s 771us/step - loss: 0.6703 - accuracy: 0.5841\n",
      "Epoch 118/250\n",
      "119/119 [==============================] - 0s 802us/step - loss: 0.6701 - accuracy: 0.5800\n",
      "Epoch 119/250\n",
      "119/119 [==============================] - 0s 791us/step - loss: 0.6697 - accuracy: 0.5864\n",
      "Epoch 120/250\n",
      "119/119 [==============================] - 0s 770us/step - loss: 0.6694 - accuracy: 0.5818\n",
      "Epoch 121/250\n",
      "119/119 [==============================] - 0s 795us/step - loss: 0.6693 - accuracy: 0.5833\n",
      "Epoch 122/250\n",
      "119/119 [==============================] - 0s 779us/step - loss: 0.6695 - accuracy: 0.5832\n",
      "Epoch 123/250\n",
      "119/119 [==============================] - 0s 800us/step - loss: 0.6687 - accuracy: 0.5863\n",
      "Epoch 124/250\n",
      "119/119 [==============================] - 0s 784us/step - loss: 0.6687 - accuracy: 0.5848\n",
      "Epoch 125/250\n",
      "119/119 [==============================] - 0s 767us/step - loss: 0.6681 - accuracy: 0.5852\n",
      "Epoch 126/250\n",
      "119/119 [==============================] - 0s 762us/step - loss: 0.6678 - accuracy: 0.5878\n",
      "Epoch 127/250\n",
      "119/119 [==============================] - 0s 779us/step - loss: 0.6680 - accuracy: 0.5836\n",
      "Epoch 128/250\n",
      "119/119 [==============================] - 0s 788us/step - loss: 0.6677 - accuracy: 0.5891\n",
      "Epoch 129/250\n",
      "119/119 [==============================] - 0s 794us/step - loss: 0.6671 - accuracy: 0.5896\n",
      "Epoch 130/250\n",
      "119/119 [==============================] - 0s 778us/step - loss: 0.6666 - accuracy: 0.5880\n",
      "Epoch 131/250\n",
      "119/119 [==============================] - 0s 763us/step - loss: 0.6667 - accuracy: 0.5902\n",
      "Epoch 132/250\n",
      "119/119 [==============================] - 0s 790us/step - loss: 0.6668 - accuracy: 0.5870\n",
      "Epoch 133/250\n",
      "119/119 [==============================] - 0s 787us/step - loss: 0.6661 - accuracy: 0.5902\n",
      "Epoch 134/250\n",
      "119/119 [==============================] - 0s 795us/step - loss: 0.6656 - accuracy: 0.5869\n",
      "Epoch 135/250\n",
      "119/119 [==============================] - 0s 774us/step - loss: 0.6656 - accuracy: 0.5916\n",
      "Epoch 136/250\n",
      "119/119 [==============================] - 0s 791us/step - loss: 0.6653 - accuracy: 0.5918\n",
      "Epoch 137/250\n",
      "119/119 [==============================] - 0s 771us/step - loss: 0.6645 - accuracy: 0.5929\n",
      "Epoch 138/250\n",
      "119/119 [==============================] - 0s 953us/step - loss: 0.6649 - accuracy: 0.5915\n",
      "Epoch 139/250\n",
      "119/119 [==============================] - 0s 764us/step - loss: 0.6644 - accuracy: 0.5923\n",
      "Epoch 140/250\n",
      "119/119 [==============================] - 0s 768us/step - loss: 0.6641 - accuracy: 0.5910\n",
      "Epoch 141/250\n",
      "119/119 [==============================] - 0s 1ms/step - loss: 0.6634 - accuracy: 0.5928\n",
      "Epoch 142/250\n",
      "119/119 [==============================] - 0s 772us/step - loss: 0.6631 - accuracy: 0.5959\n",
      "Epoch 143/250\n",
      "119/119 [==============================] - 0s 789us/step - loss: 0.6635 - accuracy: 0.5953\n",
      "Epoch 144/250\n",
      "119/119 [==============================] - 0s 773us/step - loss: 0.6632 - accuracy: 0.5925\n",
      "Epoch 145/250\n",
      "119/119 [==============================] - 0s 780us/step - loss: 0.6633 - accuracy: 0.5942\n",
      "Epoch 146/250\n",
      "119/119 [==============================] - 0s 790us/step - loss: 0.6625 - accuracy: 0.5951\n",
      "Epoch 147/250\n",
      "119/119 [==============================] - 0s 766us/step - loss: 0.6624 - accuracy: 0.5961\n",
      "Epoch 148/250\n",
      "119/119 [==============================] - 0s 773us/step - loss: 0.6614 - accuracy: 0.5971\n",
      "Epoch 149/250\n",
      "119/119 [==============================] - 0s 775us/step - loss: 0.6618 - accuracy: 0.5985\n",
      "Epoch 150/250\n",
      "119/119 [==============================] - 0s 771us/step - loss: 0.6607 - accuracy: 0.5990\n",
      "Epoch 151/250\n",
      "119/119 [==============================] - 0s 791us/step - loss: 0.6609 - accuracy: 0.6004\n",
      "Epoch 152/250\n",
      "119/119 [==============================] - 0s 786us/step - loss: 0.6604 - accuracy: 0.5976\n",
      "Epoch 153/250\n",
      "119/119 [==============================] - 0s 762us/step - loss: 0.6605 - accuracy: 0.5959\n",
      "Epoch 154/250\n",
      "119/119 [==============================] - 0s 771us/step - loss: 0.6607 - accuracy: 0.5963\n",
      "Epoch 155/250\n",
      "119/119 [==============================] - 0s 801us/step - loss: 0.6608 - accuracy: 0.5973\n",
      "Epoch 156/250\n",
      "119/119 [==============================] - 0s 791us/step - loss: 0.6607 - accuracy: 0.5963\n",
      "Epoch 157/250\n",
      "119/119 [==============================] - 0s 747us/step - loss: 0.6599 - accuracy: 0.5989\n",
      "Epoch 158/250\n",
      "119/119 [==============================] - 0s 758us/step - loss: 0.6597 - accuracy: 0.5996\n",
      "Epoch 159/250\n",
      "119/119 [==============================] - 0s 771us/step - loss: 0.6596 - accuracy: 0.6004\n",
      "Epoch 160/250\n",
      "119/119 [==============================] - 0s 797us/step - loss: 0.6590 - accuracy: 0.6000\n",
      "Epoch 161/250\n",
      "119/119 [==============================] - 0s 782us/step - loss: 0.6586 - accuracy: 0.6009\n",
      "Epoch 162/250\n",
      "119/119 [==============================] - 0s 775us/step - loss: 0.6584 - accuracy: 0.6024\n",
      "Epoch 163/250\n",
      "119/119 [==============================] - 0s 766us/step - loss: 0.6581 - accuracy: 0.6005\n",
      "Epoch 164/250\n",
      "119/119 [==============================] - 0s 780us/step - loss: 0.6584 - accuracy: 0.6023\n",
      "Epoch 165/250\n",
      "119/119 [==============================] - 0s 782us/step - loss: 0.6579 - accuracy: 0.6003\n",
      "Epoch 166/250\n",
      "119/119 [==============================] - 0s 779us/step - loss: 0.6575 - accuracy: 0.6021\n",
      "Epoch 167/250\n",
      "119/119 [==============================] - 0s 765us/step - loss: 0.6567 - accuracy: 0.6053\n",
      "Epoch 168/250\n",
      "119/119 [==============================] - 0s 1ms/step - loss: 0.6572 - accuracy: 0.6017\n",
      "Epoch 169/250\n",
      "119/119 [==============================] - 0s 800us/step - loss: 0.6564 - accuracy: 0.6053\n",
      "Epoch 170/250\n",
      "119/119 [==============================] - 0s 781us/step - loss: 0.6568 - accuracy: 0.6043\n",
      "Epoch 171/250\n",
      "119/119 [==============================] - 0s 782us/step - loss: 0.6556 - accuracy: 0.6036\n",
      "Epoch 172/250\n",
      "119/119 [==============================] - 0s 793us/step - loss: 0.6557 - accuracy: 0.6058\n",
      "Epoch 173/250\n",
      "119/119 [==============================] - 0s 772us/step - loss: 0.6552 - accuracy: 0.6043\n",
      "Epoch 174/250\n",
      "119/119 [==============================] - 0s 764us/step - loss: 0.6548 - accuracy: 0.6070\n",
      "Epoch 175/250\n",
      "119/119 [==============================] - 0s 793us/step - loss: 0.6547 - accuracy: 0.6056\n",
      "Epoch 176/250\n",
      "119/119 [==============================] - 0s 783us/step - loss: 0.6546 - accuracy: 0.6053\n",
      "Epoch 177/250\n",
      "119/119 [==============================] - 0s 770us/step - loss: 0.6545 - accuracy: 0.6079\n",
      "Epoch 178/250\n",
      "119/119 [==============================] - 0s 778us/step - loss: 0.6539 - accuracy: 0.6105\n",
      "Epoch 179/250\n",
      "119/119 [==============================] - 0s 766us/step - loss: 0.6541 - accuracy: 0.6081\n",
      "Epoch 180/250\n",
      "119/119 [==============================] - 0s 756us/step - loss: 0.6540 - accuracy: 0.6066\n",
      "Epoch 181/250\n",
      "119/119 [==============================] - 0s 786us/step - loss: 0.6535 - accuracy: 0.6085\n",
      "Epoch 182/250\n",
      "119/119 [==============================] - 0s 790us/step - loss: 0.6537 - accuracy: 0.6062\n",
      "Epoch 183/250\n",
      "119/119 [==============================] - 0s 796us/step - loss: 0.6529 - accuracy: 0.6085\n",
      "Epoch 184/250\n",
      "119/119 [==============================] - 0s 787us/step - loss: 0.6522 - accuracy: 0.6110\n",
      "Epoch 185/250\n",
      "119/119 [==============================] - 0s 768us/step - loss: 0.6526 - accuracy: 0.6077\n",
      "Epoch 186/250\n",
      "119/119 [==============================] - 0s 914us/step - loss: 0.6531 - accuracy: 0.6073\n",
      "Epoch 187/250\n",
      "119/119 [==============================] - 0s 770us/step - loss: 0.6521 - accuracy: 0.6098\n",
      "Epoch 188/250\n",
      "119/119 [==============================] - 0s 788us/step - loss: 0.6514 - accuracy: 0.6110\n",
      "Epoch 189/250\n",
      "119/119 [==============================] - 0s 765us/step - loss: 0.6522 - accuracy: 0.6107\n",
      "Epoch 190/250\n",
      "119/119 [==============================] - 0s 783us/step - loss: 0.6507 - accuracy: 0.6119\n",
      "Epoch 191/250\n",
      "119/119 [==============================] - 0s 768us/step - loss: 0.6506 - accuracy: 0.6110\n",
      "Epoch 192/250\n",
      "119/119 [==============================] - 0s 776us/step - loss: 0.6504 - accuracy: 0.6106\n",
      "Epoch 193/250\n",
      "119/119 [==============================] - 0s 1ms/step - loss: 0.6509 - accuracy: 0.6094\n",
      "Epoch 194/250\n",
      "119/119 [==============================] - 0s 753us/step - loss: 0.6494 - accuracy: 0.6162\n",
      "Epoch 195/250\n",
      "119/119 [==============================] - 0s 745us/step - loss: 0.6495 - accuracy: 0.6137\n",
      "Epoch 196/250\n",
      "119/119 [==============================] - 0s 758us/step - loss: 0.6498 - accuracy: 0.6156\n",
      "Epoch 197/250\n",
      "119/119 [==============================] - 0s 782us/step - loss: 0.6495 - accuracy: 0.6134\n",
      "Epoch 198/250\n",
      "119/119 [==============================] - 0s 772us/step - loss: 0.6496 - accuracy: 0.6123\n",
      "Epoch 199/250\n",
      "119/119 [==============================] - 0s 765us/step - loss: 0.6485 - accuracy: 0.6146\n",
      "Epoch 200/250\n",
      "119/119 [==============================] - 0s 758us/step - loss: 0.6490 - accuracy: 0.6125\n",
      "Epoch 201/250\n",
      "119/119 [==============================] - 0s 744us/step - loss: 0.6482 - accuracy: 0.6166\n",
      "Epoch 202/250\n",
      "119/119 [==============================] - 0s 796us/step - loss: 0.6480 - accuracy: 0.6143\n",
      "Epoch 203/250\n",
      "119/119 [==============================] - 0s 802us/step - loss: 0.6486 - accuracy: 0.6131\n",
      "Epoch 204/250\n",
      "119/119 [==============================] - 0s 765us/step - loss: 0.6479 - accuracy: 0.6185\n",
      "Epoch 205/250\n",
      "119/119 [==============================] - 0s 765us/step - loss: 0.6476 - accuracy: 0.6148\n",
      "Epoch 206/250\n",
      "119/119 [==============================] - 0s 755us/step - loss: 0.6463 - accuracy: 0.6165\n",
      "Epoch 207/250\n",
      "119/119 [==============================] - 0s 761us/step - loss: 0.6464 - accuracy: 0.6190\n",
      "Epoch 208/250\n",
      "119/119 [==============================] - 0s 766us/step - loss: 0.6462 - accuracy: 0.6186\n",
      "Epoch 209/250\n",
      "119/119 [==============================] - 0s 769us/step - loss: 0.6465 - accuracy: 0.6163\n",
      "Epoch 210/250\n",
      "119/119 [==============================] - 0s 755us/step - loss: 0.6459 - accuracy: 0.6208\n",
      "Epoch 211/250\n",
      "119/119 [==============================] - 0s 928us/step - loss: 0.6454 - accuracy: 0.6191\n",
      "Epoch 212/250\n",
      "119/119 [==============================] - 0s 829us/step - loss: 0.6453 - accuracy: 0.6179\n",
      "Epoch 213/250\n",
      "119/119 [==============================] - 0s 783us/step - loss: 0.6459 - accuracy: 0.6167\n",
      "Epoch 214/250\n",
      "119/119 [==============================] - 0s 770us/step - loss: 0.6447 - accuracy: 0.6199\n",
      "Epoch 215/250\n",
      "119/119 [==============================] - 0s 771us/step - loss: 0.6451 - accuracy: 0.6162\n",
      "Epoch 216/250\n",
      "119/119 [==============================] - 0s 771us/step - loss: 0.6448 - accuracy: 0.6177\n",
      "Epoch 217/250\n",
      "119/119 [==============================] - 0s 781us/step - loss: 0.6454 - accuracy: 0.6195\n",
      "Epoch 218/250\n",
      "119/119 [==============================] - 0s 784us/step - loss: 0.6440 - accuracy: 0.6213\n",
      "Epoch 219/250\n",
      "119/119 [==============================] - 0s 994us/step - loss: 0.6439 - accuracy: 0.6208\n",
      "Epoch 220/250\n",
      "119/119 [==============================] - 0s 879us/step - loss: 0.6433 - accuracy: 0.6233\n",
      "Epoch 221/250\n",
      "119/119 [==============================] - 0s 778us/step - loss: 0.6431 - accuracy: 0.6228\n",
      "Epoch 222/250\n",
      "119/119 [==============================] - 0s 785us/step - loss: 0.6424 - accuracy: 0.6215\n",
      "Epoch 223/250\n",
      "119/119 [==============================] - 0s 767us/step - loss: 0.6426 - accuracy: 0.6196\n",
      "Epoch 224/250\n",
      "119/119 [==============================] - 0s 776us/step - loss: 0.6425 - accuracy: 0.6237\n",
      "Epoch 225/250\n",
      "119/119 [==============================] - 0s 763us/step - loss: 0.6427 - accuracy: 0.6234\n",
      "Epoch 226/250\n",
      "119/119 [==============================] - 0s 776us/step - loss: 0.6415 - accuracy: 0.6230\n",
      "Epoch 227/250\n",
      "119/119 [==============================] - 0s 756us/step - loss: 0.6419 - accuracy: 0.6223\n",
      "Epoch 228/250\n",
      "119/119 [==============================] - 0s 795us/step - loss: 0.6416 - accuracy: 0.6221\n",
      "Epoch 229/250\n",
      "119/119 [==============================] - 0s 754us/step - loss: 0.6413 - accuracy: 0.6257\n",
      "Epoch 230/250\n",
      "119/119 [==============================] - 0s 768us/step - loss: 0.6410 - accuracy: 0.6254\n",
      "Epoch 231/250\n",
      "119/119 [==============================] - 0s 783us/step - loss: 0.6412 - accuracy: 0.6233\n",
      "Epoch 232/250\n",
      "119/119 [==============================] - 0s 775us/step - loss: 0.6397 - accuracy: 0.6234\n",
      "Epoch 233/250\n",
      "119/119 [==============================] - 0s 903us/step - loss: 0.6409 - accuracy: 0.6231\n",
      "Epoch 234/250\n",
      "119/119 [==============================] - 0s 813us/step - loss: 0.6395 - accuracy: 0.6248\n",
      "Epoch 235/250\n",
      "119/119 [==============================] - 0s 781us/step - loss: 0.6398 - accuracy: 0.6228\n",
      "Epoch 236/250\n",
      "119/119 [==============================] - 0s 798us/step - loss: 0.6396 - accuracy: 0.6254\n",
      "Epoch 237/250\n",
      "119/119 [==============================] - 0s 754us/step - loss: 0.6397 - accuracy: 0.6258\n",
      "Epoch 238/250\n",
      "119/119 [==============================] - 0s 769us/step - loss: 0.6388 - accuracy: 0.6277\n",
      "Epoch 239/250\n",
      "119/119 [==============================] - 0s 776us/step - loss: 0.6391 - accuracy: 0.6265\n",
      "Epoch 240/250\n",
      "119/119 [==============================] - 0s 799us/step - loss: 0.6377 - accuracy: 0.6265\n",
      "Epoch 241/250\n",
      "119/119 [==============================] - 0s 782us/step - loss: 0.6382 - accuracy: 0.6249\n",
      "Epoch 242/250\n",
      "119/119 [==============================] - 0s 793us/step - loss: 0.6388 - accuracy: 0.6270\n",
      "Epoch 243/250\n",
      "119/119 [==============================] - 0s 1ms/step - loss: 0.6379 - accuracy: 0.6263\n",
      "Epoch 244/250\n",
      "119/119 [==============================] - 0s 758us/step - loss: 0.6370 - accuracy: 0.6282\n",
      "Epoch 245/250\n",
      "119/119 [==============================] - 0s 787us/step - loss: 0.6373 - accuracy: 0.6301\n",
      "Epoch 246/250\n",
      "119/119 [==============================] - 0s 780us/step - loss: 0.6373 - accuracy: 0.6266\n",
      "Epoch 247/250\n",
      "119/119 [==============================] - 0s 783us/step - loss: 0.6377 - accuracy: 0.6279\n",
      "Epoch 248/250\n",
      "119/119 [==============================] - 0s 751us/step - loss: 0.6359 - accuracy: 0.6280\n",
      "Epoch 249/250\n",
      "119/119 [==============================] - 0s 769us/step - loss: 0.6368 - accuracy: 0.6291\n",
      "Epoch 250/250\n",
      "119/119 [==============================] - 0s 769us/step - loss: 0.6363 - accuracy: 0.6281\n"
     ]
    },
    {
     "data": {
      "text/plain": [
       "<keras.callbacks.History at 0x7f72ee91aca0>"
      ]
     },
     "execution_count": 25,
     "metadata": {},
     "output_type": "execute_result"
    }
   ],
   "source": [
    "model.fit(x_train, y_train_dnn, epochs=250, batch_size=256)"
   ]
  },
  {
   "cell_type": "code",
   "execution_count": 26,
   "metadata": {},
   "outputs": [],
   "source": [
    "y_pred = model.predict(x_test)"
   ]
  },
  {
   "cell_type": "code",
   "execution_count": 27,
   "metadata": {},
   "outputs": [],
   "source": [
    "y_pred_vals = list()\n",
    "for y in y_pred:\n",
    "    if y[0] >= y[1]:\n",
    "        y_pred_vals.append(0)\n",
    "    else:\n",
    "        y_pred_vals.append(1)"
   ]
  },
  {
   "cell_type": "code",
   "execution_count": 28,
   "metadata": {},
   "outputs": [
    {
     "data": {
      "text/plain": [
       "0.49069464586647155"
      ]
     },
     "execution_count": 28,
     "metadata": {},
     "output_type": "execute_result"
    }
   ],
   "source": [
    "f1_score(y_test_dnn,y_pred_vals, average = 'macro')"
   ]
  },
  {
   "attachments": {},
   "cell_type": "markdown",
   "metadata": {},
   "source": [
    "#### LSTM "
   ]
  },
  {
   "cell_type": "code",
   "execution_count": 525,
   "metadata": {},
   "outputs": [],
   "source": [
    "def create_lstm_dataset(x,y):\n",
    "    train_seqs = list()\n",
    "    train_targets = list()\n",
    "\n",
    "    i = 0 \n",
    "\n",
    "    for i in range(len(x) - 24):\n",
    "        seq = x[i:i+24]\n",
    "        target = y[i:i+24]\n",
    "        if seq.shape[0] != 24 or target.shape[0] != 24:\n",
    "            continue\n",
    "        train_seqs.append(seq)\n",
    "        train_targets.append(target)\n",
    "\n",
    "\n",
    "    train_seqs = np.array(train_seqs)\n",
    "    train_targets = np.array(train_targets)\n",
    "\n",
    "    return train_seqs,train_targets\n"
   ]
  },
  {
   "cell_type": "code",
   "execution_count": 526,
   "metadata": {},
   "outputs": [],
   "source": [
    "x_train_lstm, y_train_lstm = create_lstm_dataset(x_train,y_train)"
   ]
  },
  {
   "cell_type": "code",
   "execution_count": 527,
   "metadata": {},
   "outputs": [],
   "source": [
    "x_test_lstm, y_test_lstm = create_lstm_dataset(x_test,y_test)"
   ]
  },
  {
   "cell_type": "code",
   "execution_count": 528,
   "metadata": {},
   "outputs": [],
   "source": [
    "model=Sequential()\n",
    "model.add(LSTM(250,return_sequences=True,input_shape=(x_train_lstm.shape[1],x_train_lstm.shape[2]),activation=\"relu\"))\n",
    "model.add(LSTM(250,activation=\"relu\"))\n",
    "model.add(Dense(1, activation = 'sigmoid'))\n",
    "model.compile(loss=\"mean_squared_error\",optimizer=\"adam\")"
   ]
  },
  {
   "cell_type": "code",
   "execution_count": 529,
   "metadata": {},
   "outputs": [
    {
     "name": "stdout",
     "output_type": "stream",
     "text": [
      "Epoch 1/100\n"
     ]
    },
    {
     "name": "stdout",
     "output_type": "stream",
     "text": [
      "119/119 [==============================] - 13s 98ms/step - loss: 0.2499\n",
      "Epoch 2/100\n",
      "119/119 [==============================] - 12s 104ms/step - loss: 0.2498\n",
      "Epoch 3/100\n",
      "119/119 [==============================] - 13s 108ms/step - loss: 0.2497\n",
      "Epoch 4/100\n",
      "119/119 [==============================] - 13s 110ms/step - loss: 0.2496\n",
      "Epoch 5/100\n",
      "119/119 [==============================] - 13s 110ms/step - loss: 0.2495\n",
      "Epoch 6/100\n",
      "119/119 [==============================] - 13s 107ms/step - loss: 0.2493\n",
      "Epoch 7/100\n",
      "119/119 [==============================] - 12s 103ms/step - loss: 0.2490\n",
      "Epoch 8/100\n",
      "119/119 [==============================] - 13s 113ms/step - loss: 0.2487\n",
      "Epoch 9/100\n",
      "119/119 [==============================] - 13s 112ms/step - loss: 0.2484\n",
      "Epoch 10/100\n",
      "119/119 [==============================] - 13s 111ms/step - loss: 0.2481\n",
      "Epoch 11/100\n",
      "119/119 [==============================] - 13s 110ms/step - loss: 0.2478\n",
      "Epoch 12/100\n",
      "119/119 [==============================] - 13s 108ms/step - loss: 0.2475\n",
      "Epoch 13/100\n",
      "119/119 [==============================] - 13s 108ms/step - loss: 0.2474\n",
      "Epoch 14/100\n",
      "119/119 [==============================] - 12s 105ms/step - loss: 0.2472\n",
      "Epoch 15/100\n",
      "119/119 [==============================] - 14s 114ms/step - loss: 0.2469\n",
      "Epoch 16/100\n",
      "119/119 [==============================] - 13s 111ms/step - loss: 0.2468\n",
      "Epoch 17/100\n",
      "119/119 [==============================] - 13s 107ms/step - loss: 0.2467\n",
      "Epoch 18/100\n",
      "119/119 [==============================] - 14s 114ms/step - loss: 0.2465\n",
      "Epoch 19/100\n",
      "119/119 [==============================] - 13s 111ms/step - loss: 0.2464\n",
      "Epoch 20/100\n",
      "119/119 [==============================] - 13s 109ms/step - loss: 0.2463\n",
      "Epoch 21/100\n",
      "119/119 [==============================] - 13s 111ms/step - loss: 0.2461\n",
      "Epoch 22/100\n",
      "119/119 [==============================] - 13s 111ms/step - loss: 0.2460\n",
      "Epoch 23/100\n",
      "119/119 [==============================] - 13s 110ms/step - loss: 0.2459\n",
      "Epoch 24/100\n",
      "119/119 [==============================] - 14s 116ms/step - loss: 0.2458\n",
      "Epoch 25/100\n",
      "119/119 [==============================] - 13s 110ms/step - loss: 0.2456\n",
      "Epoch 26/100\n",
      "119/119 [==============================] - 13s 110ms/step - loss: 0.2455\n",
      "Epoch 27/100\n",
      "119/119 [==============================] - 13s 109ms/step - loss: 0.2454\n",
      "Epoch 28/100\n",
      "119/119 [==============================] - 13s 108ms/step - loss: 0.2453\n",
      "Epoch 29/100\n",
      "119/119 [==============================] - 13s 107ms/step - loss: 0.2452\n",
      "Epoch 30/100\n",
      "119/119 [==============================] - 13s 106ms/step - loss: 0.2451\n",
      "Epoch 31/100\n",
      "119/119 [==============================] - 13s 109ms/step - loss: 0.2450\n",
      "Epoch 32/100\n",
      "119/119 [==============================] - 13s 110ms/step - loss: 0.2449\n",
      "Epoch 33/100\n",
      "119/119 [==============================] - 13s 110ms/step - loss: 0.2448\n",
      "Epoch 34/100\n",
      "119/119 [==============================] - 13s 108ms/step - loss: 0.2447\n",
      "Epoch 35/100\n",
      "119/119 [==============================] - 14s 115ms/step - loss: 0.2447\n",
      "Epoch 36/100\n",
      "119/119 [==============================] - 13s 111ms/step - loss: 0.2445\n",
      "Epoch 37/100\n",
      "119/119 [==============================] - 13s 109ms/step - loss: 0.2445\n",
      "Epoch 38/100\n",
      "119/119 [==============================] - 13s 108ms/step - loss: 0.2444\n",
      "Epoch 39/100\n",
      "119/119 [==============================] - 13s 111ms/step - loss: 0.2443\n",
      "Epoch 40/100\n",
      "119/119 [==============================] - 13s 109ms/step - loss: 0.2442\n",
      "Epoch 41/100\n",
      "119/119 [==============================] - 13s 111ms/step - loss: 0.2441\n",
      "Epoch 42/100\n",
      "119/119 [==============================] - 13s 111ms/step - loss: 0.2441\n",
      "Epoch 43/100\n",
      "119/119 [==============================] - 13s 110ms/step - loss: 0.2440\n",
      "Epoch 44/100\n",
      "119/119 [==============================] - 13s 110ms/step - loss: 0.2440\n",
      "Epoch 45/100\n",
      "119/119 [==============================] - 12s 105ms/step - loss: 0.2439\n",
      "Epoch 46/100\n",
      "119/119 [==============================] - 13s 105ms/step - loss: 0.2438\n",
      "Epoch 47/100\n",
      "119/119 [==============================] - 13s 109ms/step - loss: 0.2438\n",
      "Epoch 48/100\n",
      "119/119 [==============================] - 13s 113ms/step - loss: 0.2438\n",
      "Epoch 49/100\n",
      "119/119 [==============================] - 13s 109ms/step - loss: 0.2437\n",
      "Epoch 50/100\n",
      "119/119 [==============================] - 13s 110ms/step - loss: 0.2436\n",
      "Epoch 51/100\n",
      "119/119 [==============================] - 13s 113ms/step - loss: 0.2436\n",
      "Epoch 52/100\n",
      "119/119 [==============================] - 13s 109ms/step - loss: 0.2436\n",
      "Epoch 53/100\n",
      "119/119 [==============================] - 13s 106ms/step - loss: 0.2435\n",
      "Epoch 54/100\n",
      "119/119 [==============================] - 12s 104ms/step - loss: 0.2435\n",
      "Epoch 55/100\n",
      "119/119 [==============================] - 12s 104ms/step - loss: 0.2434\n",
      "Epoch 56/100\n",
      "119/119 [==============================] - 12s 103ms/step - loss: 0.2434\n",
      "Epoch 57/100\n",
      "119/119 [==============================] - 12s 104ms/step - loss: 0.2434\n",
      "Epoch 58/100\n",
      "119/119 [==============================] - 12s 103ms/step - loss: 0.2433\n",
      "Epoch 59/100\n",
      "119/119 [==============================] - 12s 103ms/step - loss: 0.2433\n",
      "Epoch 60/100\n",
      "119/119 [==============================] - 12s 103ms/step - loss: 0.2433\n",
      "Epoch 61/100\n",
      "119/119 [==============================] - 12s 103ms/step - loss: 0.2433\n",
      "Epoch 62/100\n",
      "119/119 [==============================] - 12s 103ms/step - loss: 0.2432\n",
      "Epoch 63/100\n",
      "119/119 [==============================] - 12s 103ms/step - loss: 0.2432\n",
      "Epoch 64/100\n",
      "119/119 [==============================] - 12s 103ms/step - loss: 0.2432\n",
      "Epoch 65/100\n",
      "119/119 [==============================] - 12s 104ms/step - loss: 0.2432\n",
      "Epoch 66/100\n",
      "119/119 [==============================] - 12s 103ms/step - loss: 0.2431\n",
      "Epoch 67/100\n",
      "119/119 [==============================] - 12s 103ms/step - loss: 0.2431\n",
      "Epoch 68/100\n",
      "119/119 [==============================] - 12s 103ms/step - loss: 0.2431\n",
      "Epoch 69/100\n",
      "119/119 [==============================] - 12s 103ms/step - loss: 0.2431\n",
      "Epoch 70/100\n",
      "119/119 [==============================] - 12s 103ms/step - loss: 0.2431\n",
      "Epoch 71/100\n",
      "119/119 [==============================] - 12s 103ms/step - loss: 0.2430\n",
      "Epoch 72/100\n",
      "119/119 [==============================] - 12s 103ms/step - loss: 0.2430\n",
      "Epoch 73/100\n",
      "119/119 [==============================] - 12s 103ms/step - loss: 0.2430\n",
      "Epoch 74/100\n",
      "119/119 [==============================] - 12s 103ms/step - loss: 0.2430\n",
      "Epoch 75/100\n",
      "119/119 [==============================] - 12s 103ms/step - loss: 0.2430\n",
      "Epoch 76/100\n",
      "119/119 [==============================] - 12s 104ms/step - loss: 0.2430\n",
      "Epoch 77/100\n",
      "119/119 [==============================] - 11s 93ms/step - loss: 0.2429\n",
      "Epoch 78/100\n",
      "119/119 [==============================] - 11s 93ms/step - loss: 0.2429\n",
      "Epoch 79/100\n",
      "119/119 [==============================] - 11s 93ms/step - loss: 0.2429\n",
      "Epoch 80/100\n",
      "119/119 [==============================] - 11s 93ms/step - loss: 0.2429\n",
      "Epoch 81/100\n",
      "119/119 [==============================] - 11s 93ms/step - loss: 0.2429\n",
      "Epoch 82/100\n",
      "119/119 [==============================] - 11s 93ms/step - loss: 0.2429\n",
      "Epoch 83/100\n",
      "119/119 [==============================] - 11s 93ms/step - loss: 0.2429\n",
      "Epoch 84/100\n",
      "119/119 [==============================] - 11s 93ms/step - loss: 0.2429\n",
      "Epoch 85/100\n",
      "119/119 [==============================] - 11s 93ms/step - loss: 0.2428\n",
      "Epoch 86/100\n",
      "119/119 [==============================] - 11s 93ms/step - loss: 0.2428\n",
      "Epoch 87/100\n",
      "119/119 [==============================] - 11s 93ms/step - loss: 0.2428\n",
      "Epoch 88/100\n",
      "119/119 [==============================] - 11s 93ms/step - loss: 0.2428\n",
      "Epoch 89/100\n",
      "119/119 [==============================] - 11s 93ms/step - loss: 0.2428\n",
      "Epoch 90/100\n",
      "119/119 [==============================] - 11s 93ms/step - loss: 0.2428\n",
      "Epoch 91/100\n",
      "119/119 [==============================] - 11s 93ms/step - loss: 0.2428\n",
      "Epoch 92/100\n",
      "119/119 [==============================] - 11s 93ms/step - loss: 0.2428\n",
      "Epoch 93/100\n",
      "119/119 [==============================] - 11s 93ms/step - loss: 0.2428\n",
      "Epoch 94/100\n",
      "119/119 [==============================] - 11s 93ms/step - loss: 0.2427\n",
      "Epoch 95/100\n",
      "119/119 [==============================] - 11s 93ms/step - loss: 0.2428\n",
      "Epoch 96/100\n",
      "119/119 [==============================] - 11s 93ms/step - loss: 0.2428\n",
      "Epoch 97/100\n",
      "119/119 [==============================] - 11s 93ms/step - loss: 0.2427\n",
      "Epoch 98/100\n",
      "119/119 [==============================] - 11s 93ms/step - loss: 0.2427\n",
      "Epoch 99/100\n",
      "119/119 [==============================] - 11s 94ms/step - loss: 0.2427\n",
      "Epoch 100/100\n",
      "119/119 [==============================] - 11s 93ms/step - loss: 0.2427\n"
     ]
    },
    {
     "data": {
      "text/plain": [
       "<keras.callbacks.History at 0x7f52056d7ca0>"
      ]
     },
     "execution_count": 529,
     "metadata": {},
     "output_type": "execute_result"
    }
   ],
   "source": [
    "model.fit(x_train_lstm, y_train_lstm, epochs=100, batch_size=256)"
   ]
  },
  {
   "cell_type": "code",
   "execution_count": 530,
   "metadata": {},
   "outputs": [],
   "source": [
    "y_pred = model.predict(x_test_lstm)"
   ]
  },
  {
   "cell_type": "code",
   "execution_count": 531,
   "metadata": {},
   "outputs": [],
   "source": [
    "y_pred = np.where(y_pred < 0.5, 0, 1)"
   ]
  },
  {
   "cell_type": "code",
   "execution_count": 532,
   "metadata": {},
   "outputs": [
    {
     "data": {
      "text/plain": [
       "(14228, 1)"
      ]
     },
     "execution_count": 532,
     "metadata": {},
     "output_type": "execute_result"
    }
   ],
   "source": [
    "y_pred.shape"
   ]
  },
  {
   "cell_type": "code",
   "execution_count": 533,
   "metadata": {},
   "outputs": [
    {
     "data": {
      "text/plain": [
       "(14252,)"
      ]
     },
     "execution_count": 533,
     "metadata": {},
     "output_type": "execute_result"
    }
   ],
   "source": [
    "y_test.shape"
   ]
  },
  {
   "cell_type": "code",
   "execution_count": 534,
   "metadata": {},
   "outputs": [],
   "source": [
    "pred = list()\n",
    "for y in y_pred:\n",
    "    pred.append(y[0])"
   ]
  },
  {
   "cell_type": "code",
   "execution_count": 535,
   "metadata": {},
   "outputs": [
    {
     "data": {
      "text/plain": [
       "0.5712723295661685"
      ]
     },
     "execution_count": 535,
     "metadata": {},
     "output_type": "execute_result"
    }
   ],
   "source": [
    "f1_score(y_test[:14228], pred)"
   ]
  }
 ],
 "metadata": {
  "kernelspec": {
   "display_name": "Python 3",
   "language": "python",
   "name": "python3"
  },
  "language_info": {
   "codemirror_mode": {
    "name": "ipython",
    "version": 3
   },
   "file_extension": ".py",
   "mimetype": "text/x-python",
   "name": "python",
   "nbconvert_exporter": "python",
   "pygments_lexer": "ipython3",
   "version": "3.8.10"
  },
  "orig_nbformat": 4
 },
 "nbformat": 4,
 "nbformat_minor": 2
}
